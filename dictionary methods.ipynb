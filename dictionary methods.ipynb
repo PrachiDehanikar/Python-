{
 "cells": [
  {
   "cell_type": "markdown",
   "metadata": {},
   "source": [
    "# Dictionary Methods"
   ]
  },
  {
   "cell_type": "markdown",
   "metadata": {},
   "source": [
    "## clear()"
   ]
  },
  {
   "cell_type": "code",
   "execution_count": 1,
   "metadata": {},
   "outputs": [],
   "source": [
    "user1 ={\n",
    "    'name': 'anita',\n",
    "    'age' : 34,\n",
    "    'gender' : 'female'\n",
    "    }\n",
    "user1.clear()"
   ]
  },
  {
   "cell_type": "code",
   "execution_count": 2,
   "metadata": {},
   "outputs": [
    {
     "name": "stdout",
     "output_type": "stream",
     "text": [
      "{}\n"
     ]
    }
   ],
   "source": [
    "print(user1)"
   ]
  },
  {
   "cell_type": "markdown",
   "metadata": {},
   "source": [
    "## copy()"
   ]
  },
  {
   "cell_type": "code",
   "execution_count": 3,
   "metadata": {},
   "outputs": [
    {
     "data": {
      "text/plain": [
       "{'name': 'kritika', 'id': 'kriti11', 'add': 'Mumbai'}"
      ]
     },
     "execution_count": 3,
     "metadata": {},
     "output_type": "execute_result"
    }
   ],
   "source": [
    "user2 = {\n",
    "    'name':'kritika',\n",
    "    'id':'kriti11',\n",
    "    'add': 'Mumbai'\n",
    "}\n",
    "user2.copy()"
   ]
  },
  {
   "cell_type": "markdown",
   "metadata": {},
   "source": [
    "## fromkeys()"
   ]
  },
  {
   "cell_type": "code",
   "execution_count": 7,
   "metadata": {},
   "outputs": [
    {
     "name": "stdout",
     "output_type": "stream",
     "text": [
      "{'prajwal': 34, 'devesh': 34, 'punit': 34, 'mandar': 34, 'nirmal': 34}\n"
     ]
    }
   ],
   "source": [
    "user3 = {'punit','mandar','prajwal','devesh','nirmal'}\n",
    "user4 = 34\n",
    "thisdic = dict.fromkeys(user3,user4)\n",
    "\n",
    "print(thisdic)"
   ]
  },
  {
   "cell_type": "code",
   "execution_count": 8,
   "metadata": {},
   "outputs": [
    {
     "name": "stdout",
     "output_type": "stream",
     "text": [
      "{'prajwal': None, 'devesh': None, 'punit': None, 'mandar': None, 'nirmal': None}\n"
     ]
    }
   ],
   "source": [
    "user3 = {'punit','mandar','prajwal','devesh','nirmal'}\n",
    "thisdic = dict.fromkeys(user3)\n",
    "\n",
    "print(thisdic)"
   ]
  },
  {
   "cell_type": "markdown",
   "metadata": {},
   "source": [
    "## get()"
   ]
  },
  {
   "cell_type": "code",
   "execution_count": 11,
   "metadata": {},
   "outputs": [
    {
     "name": "stdout",
     "output_type": "stream",
     "text": [
      "software developer\n"
     ]
    }
   ],
   "source": [
    "stud = {\n",
    "    'name':'krish',\n",
    "    'year' : 1983,\n",
    "    'desg': 'software developer'\n",
    "}\n",
    "\n",
    "x = stud.get('desg')\n",
    "print(x)"
   ]
  },
  {
   "cell_type": "code",
   "execution_count": 13,
   "metadata": {},
   "outputs": [
    {
     "name": "stdout",
     "output_type": "stream",
     "text": [
      "300000\n"
     ]
    }
   ],
   "source": [
    "stud = {\n",
    "    'name':'krish',\n",
    "    'year' : 1983,\n",
    "    'desg': 'software developer'\n",
    "}\n",
    "y= stud.get('salary',300000)\n",
    "print(y)"
   ]
  },
  {
   "cell_type": "markdown",
   "metadata": {},
   "source": [
    "## items()"
   ]
  },
  {
   "cell_type": "code",
   "execution_count": 14,
   "metadata": {},
   "outputs": [
    {
     "data": {
      "text/plain": [
       "dict_items([('id', 34), ('name', 's2'), ('desg', 'TA'), ('age', 43)])"
      ]
     },
     "execution_count": 14,
     "metadata": {},
     "output_type": "execute_result"
    }
   ],
   "source": [
    "emp = {\n",
    "    'id': 34,\n",
    "    'name':'s2',\n",
    "    'desg':'TA',\n",
    "    'age':43\n",
    "}\n",
    "\n",
    "emp.items()"
   ]
  },
  {
   "cell_type": "code",
   "execution_count": 19,
   "metadata": {},
   "outputs": [
    {
     "name": "stdout",
     "output_type": "stream",
     "text": [
      "dict_items([('id', 34), ('name', 's2'), ('desg', 'TA'), ('age', 43)])\n",
      "dict_items([('id', 34), ('name', 's2'), ('desg', 'TA'), ('age', 44)])\n"
     ]
    }
   ],
   "source": [
    "emp = {\n",
    "    'id': 34,\n",
    "    'name':'s2',\n",
    "    'desg':'TA',\n",
    "    'age':43\n",
    "}\n",
    "\n",
    "y = emp.items()\n",
    "print(y)\n",
    "emp['age']= 44\n",
    "print(y)"
   ]
  },
  {
   "cell_type": "markdown",
   "metadata": {},
   "source": [
    "## keys()"
   ]
  },
  {
   "cell_type": "code",
   "execution_count": 22,
   "metadata": {},
   "outputs": [
    {
     "name": "stdout",
     "output_type": "stream",
     "text": [
      "dict_keys(['name', 'taste', 'shape'])\n"
     ]
    },
    {
     "data": {
      "text/plain": [
       "dict_keys(['name', 'taste', 'shape', 'color'])"
      ]
     },
     "execution_count": 22,
     "metadata": {},
     "output_type": "execute_result"
    }
   ],
   "source": [
    "fruit = {\n",
    "    'name': 'apple',\n",
    "    'taste' : 'sweet',\n",
    "    'shape': 'roundish'\n",
    "}\n",
    "\n",
    "z =fruit.keys()\n",
    "print(z)\n",
    "fruit['color'] = 'Red'\n",
    "fruit.keys()\n",
    "print(z)"
   ]
  },
  {
   "cell_type": "markdown",
   "metadata": {},
   "source": [
    "## pop()"
   ]
  },
  {
   "cell_type": "code",
   "execution_count": 25,
   "metadata": {},
   "outputs": [
    {
     "name": "stdout",
     "output_type": "stream",
     "text": [
      "{'brand': 'HP', 'core': 'i3'}\n"
     ]
    }
   ],
   "source": [
    "laptop = {\n",
    "    'brand':'HP',\n",
    "    'core':'i3',\n",
    "    'color':'silver'\n",
    "}\n",
    "\n",
    "laptop.pop('color')\n",
    "\n",
    "print(laptop)"
   ]
  },
  {
   "cell_type": "code",
   "execution_count": 26,
   "metadata": {},
   "outputs": [
    {
     "name": "stdout",
     "output_type": "stream",
     "text": [
      "silver\n"
     ]
    }
   ],
   "source": [
    "laptop = {\n",
    "    'brand':'HP',\n",
    "    'core':'i3',\n",
    "    'color':'silver'\n",
    "}\n",
    "\n",
    "p= laptop.pop('color')\n",
    "print(p)"
   ]
  },
  {
   "cell_type": "markdown",
   "metadata": {},
   "source": [
    "## popitem()"
   ]
  },
  {
   "cell_type": "code",
   "execution_count": 29,
   "metadata": {},
   "outputs": [
    {
     "name": "stdout",
     "output_type": "stream",
     "text": [
      "{'name': 'Rohit', 'age': '45', 'sport': 'cricket'}\n"
     ]
    }
   ],
   "source": [
    "player ={\n",
    "    'name':'Rohit',\n",
    "    'age':'45',\n",
    "    'sport':'cricket',\n",
    "    'year':1999\n",
    "}\n",
    "\n",
    "player.popitem()\n",
    "print(player)"
   ]
  },
  {
   "cell_type": "code",
   "execution_count": 28,
   "metadata": {},
   "outputs": [
    {
     "name": "stdout",
     "output_type": "stream",
     "text": [
      "('year', 1999)\n"
     ]
    }
   ],
   "source": [
    "player ={\n",
    "    'name':'Rohit',\n",
    "    'age':'45',\n",
    "    'sport':'cricket',\n",
    "    'year':1999\n",
    "}\n",
    "\n",
    "a2 =player.popitem()\n",
    "print(a2)"
   ]
  },
  {
   "cell_type": "markdown",
   "metadata": {},
   "source": [
    "## setdefault()"
   ]
  },
  {
   "cell_type": "code",
   "execution_count": 32,
   "metadata": {},
   "outputs": [
    {
     "name": "stdout",
     "output_type": "stream",
     "text": [
      "{'id': 1234, 'name': 'a1', 'disease': 'malaria'}\n"
     ]
    }
   ],
   "source": [
    "patient ={\n",
    "    'id': 1234,\n",
    "    'name': 'a1',\n",
    "    'disease' :'malaria'\n",
    "}\n",
    "patient.setdefault('disease','typhoid')\n",
    "\n",
    "print(patient)"
   ]
  },
  {
   "cell_type": "code",
   "execution_count": 34,
   "metadata": {},
   "outputs": [
    {
     "name": "stdout",
     "output_type": "stream",
     "text": [
      "{'id': 1234, 'name': 'a1', 'disease': 'malaria', 'symptom': 'nausea'}\n"
     ]
    }
   ],
   "source": [
    "patient ={\n",
    "    'id': 1234,\n",
    "    'name': 'a1',\n",
    "    'disease' :'malaria'\n",
    "}\n",
    "patient.setdefault('symptom','nausea')\n",
    "print(patient)"
   ]
  },
  {
   "cell_type": "markdown",
   "metadata": {},
   "source": [
    "## update()"
   ]
  },
  {
   "cell_type": "code",
   "execution_count": 37,
   "metadata": {},
   "outputs": [
    {
     "name": "stdout",
     "output_type": "stream",
     "text": [
      "{'rollid': 'J080235', 'name': 'prachi', 'percent': 88, 'board': 'Maharashtra state Board'}\n"
     ]
    }
   ],
   "source": [
    "result = {\n",
    "    'rollid':'J080235',\n",
    "    'name':'prachi',\n",
    "    'percent':88,\n",
    "}\n",
    "result.update({'board':'Maharashtra state Board'})\n",
    "print(result)"
   ]
  },
  {
   "cell_type": "markdown",
   "metadata": {},
   "source": [
    "## values()"
   ]
  },
  {
   "cell_type": "code",
   "execution_count": 38,
   "metadata": {},
   "outputs": [
    {
     "data": {
      "text/plain": [
       "dict_values(['abhira', 1995, 'actor'])"
      ]
     },
     "execution_count": 38,
     "metadata": {},
     "output_type": "execute_result"
    }
   ],
   "source": [
    "user = {\n",
    "    'name':'abhira',\n",
    "    'birth':1995,\n",
    "    'profile':'actor'\n",
    "}\n",
    "\n",
    "user.values()"
   ]
  },
  {
   "cell_type": "code",
   "execution_count": 40,
   "metadata": {},
   "outputs": [
    {
     "name": "stdout",
     "output_type": "stream",
     "text": [
      "dict_values(['abhira', 1995, 'manager'])\n"
     ]
    }
   ],
   "source": [
    "user = {\n",
    "    'name':'abhira',\n",
    "    'birth':1995,\n",
    "    'profile':'actor'\n",
    "}\n",
    "\n",
    "o=user.values()\n",
    "user['profile']= 'manager'\n",
    "print(o)"
   ]
  }
 ],
 "metadata": {
  "kernelspec": {
   "display_name": "base",
   "language": "python",
   "name": "python3"
  },
  "language_info": {
   "codemirror_mode": {
    "name": "ipython",
    "version": 3
   },
   "file_extension": ".py",
   "mimetype": "text/x-python",
   "name": "python",
   "nbconvert_exporter": "python",
   "pygments_lexer": "ipython3",
   "version": "3.11.7"
  }
 },
 "nbformat": 4,
 "nbformat_minor": 2
}

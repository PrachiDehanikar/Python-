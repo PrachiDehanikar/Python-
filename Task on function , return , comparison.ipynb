{
 "cells": [
  {
   "cell_type": "markdown",
   "metadata": {},
   "source": [
    "## Function with proper Execution Cycle"
   ]
  },
  {
   "cell_type": "markdown",
   "metadata": {},
   "source": [
    "### Function using ADD , Multiplication"
   ]
  },
  {
   "cell_type": "code",
   "execution_count": 5,
   "metadata": {},
   "outputs": [
    {
     "name": "stdout",
     "output_type": "stream",
     "text": [
      "addition of p1,p2 and p3 are:\n",
      "p1+p2+p3 = 15\n"
     ]
    }
   ],
   "source": [
    "def add_values(p1,p2,p3):\n",
    "    result = p1+p2+p3\n",
    "    print(f'p1+p2+p3 = {result}')\n",
    "\n",
    "print('addition of p1,p2 and p3 are:')\n",
    "add_values(4,5,6)"
   ]
  },
  {
   "cell_type": "code",
   "execution_count": 6,
   "metadata": {},
   "outputs": [
    {
     "name": "stdout",
     "output_type": "stream",
     "text": [
      "multiplication of a1, a2 and a3 are :\n",
      "a1*a2*a3 = 72\n"
     ]
    }
   ],
   "source": [
    "def mul_value(a1,a2,a3):\n",
    "    result = a1*a2*a3\n",
    "    print(f'a1*a2*a3 = {result}')\n",
    "\n",
    "print('multiplication of a1, a2 and a3 are :')\n",
    "mul_value(12,2,3)"
   ]
  },
  {
   "cell_type": "markdown",
   "metadata": {},
   "source": [
    "### Comparison Function"
   ]
  },
  {
   "cell_type": "code",
   "execution_count": 13,
   "metadata": {},
   "outputs": [
    {
     "name": "stdout",
     "output_type": "stream",
     "text": [
      "50 is greater than 100 = False\n",
      "50 is less than 100= True\n"
     ]
    }
   ],
   "source": [
    "def check_values(num1,num2):\n",
    "    result = num1 >num2\n",
    "    result2 = num1<num2\n",
    "    print(f'{num1} is greater than {num2} = {result}')\n",
    "    print(f'{num1} is less than {num2}= {result2}')\n",
    "\n",
    "check_values(50,100)"
   ]
  },
  {
   "cell_type": "markdown",
   "metadata": {},
   "source": [
    "### Return Function"
   ]
  },
  {
   "cell_type": "code",
   "execution_count": 17,
   "metadata": {},
   "outputs": [
    {
     "name": "stdout",
     "output_type": "stream",
     "text": [
      "p1/p2=100/5=20.0\n",
      "output = 20.0\n"
     ]
    }
   ],
   "source": [
    "def div(p1,p2):\n",
    "    result = p1/p2\n",
    "    print(f'p1/p2={p1}/{p2}={result}')\n",
    "    return result\n",
    "\n",
    "output = div(100,5)\n",
    "print(f'output = {output}')\n"
   ]
  },
  {
   "cell_type": "code",
   "execution_count": 19,
   "metadata": {},
   "outputs": [
    {
     "name": "stdout",
     "output_type": "stream",
     "text": [
      "50 is greater than 100 = False\n",
      "50 is less than 100= True\n",
      "output = (False, True)\n"
     ]
    }
   ],
   "source": [
    "def check_values(num1,num2):\n",
    "    result = num1 >num2\n",
    "    result2 = num1<num2\n",
    "    print(f'{num1} is greater than {num2} = {result}')\n",
    "    print(f'{num1} is less than {num2}= {result2}')\n",
    "    return result ,result2\n",
    "\n",
    "output = check_values(50,100)\n",
    "print(f'output = {output}')"
   ]
  }
 ],
 "metadata": {
  "kernelspec": {
   "display_name": "Python 3",
   "language": "python",
   "name": "python3"
  },
  "language_info": {
   "codemirror_mode": {
    "name": "ipython",
    "version": 3
   },
   "file_extension": ".py",
   "mimetype": "text/x-python",
   "name": "python",
   "nbconvert_exporter": "python",
   "pygments_lexer": "ipython3",
   "version": "3.12.3"
  }
 },
 "nbformat": 4,
 "nbformat_minor": 2
}

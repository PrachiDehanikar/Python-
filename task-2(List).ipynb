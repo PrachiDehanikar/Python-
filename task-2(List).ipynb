{
 "cells": [
  {
   "cell_type": "markdown",
   "id": "8a41fe20-6007-446d-8679-3987d242ce78",
   "metadata": {},
   "source": [
    "### Append()"
   ]
  },
  {
   "cell_type": "code",
   "execution_count": 49,
   "id": "0c8c2c21-6316-4a76-b79f-bff3d6348ec7",
   "metadata": {},
   "outputs": [],
   "source": [
    "cars = ['BMW','Ferrari','Suzuki Swift']\n",
    "cars.append ('Mercedes')\n",
    "num = 1,3,4,5\n",
    "cars.append(num)"
   ]
  },
  {
   "cell_type": "code",
   "execution_count": 51,
   "id": "58760f22-e0d1-4090-8405-463895ac7b20",
   "metadata": {},
   "outputs": [
    {
     "name": "stdout",
     "output_type": "stream",
     "text": [
      "['BMW', 'Ferrari', 'Suzuki Swift', 'Mercedes', (1, 3, 4, 5)]\n"
     ]
    }
   ],
   "source": [
    "print(cars)"
   ]
  },
  {
   "cell_type": "markdown",
   "id": "c948c0ec-e454-4a95-bfa7-0979b1c30dc2",
   "metadata": {},
   "source": [
    "### Clear()"
   ]
  },
  {
   "cell_type": "code",
   "execution_count": 126,
   "id": "c317e23a-0640-4306-8a64-89a1f125f18a",
   "metadata": {},
   "outputs": [],
   "source": [
    "cricketers = ['Virat','Rohit','Jasprit']\n",
    "cricketers.clear()"
   ]
  },
  {
   "cell_type": "code",
   "execution_count": 11,
   "id": "c464d051-9218-4b7a-8d14-313dbce4a222",
   "metadata": {},
   "outputs": [
    {
     "name": "stdout",
     "output_type": "stream",
     "text": [
      "[]\n"
     ]
    }
   ],
   "source": [
    "print(cricketers)"
   ]
  },
  {
   "cell_type": "markdown",
   "id": "3964d901-a934-4e00-8a86-d905b0e9a0da",
   "metadata": {},
   "source": [
    "### Copy()"
   ]
  },
  {
   "cell_type": "code",
   "execution_count": 13,
   "id": "ccde5af4-0987-41d5-af23-f69be588739c",
   "metadata": {},
   "outputs": [
    {
     "data": {
      "text/plain": [
       "['spinach', 'brinjal', 'pumpkin']"
      ]
     },
     "execution_count": 13,
     "metadata": {},
     "output_type": "execute_result"
    }
   ],
   "source": [
    "vegetables=['spinach','brinjal','pumpkin']\n",
    "vegetables.copy()"
   ]
  },
  {
   "cell_type": "code",
   "execution_count": 15,
   "id": "889f6219-fcbb-481a-a60e-c4f3553dcb5a",
   "metadata": {},
   "outputs": [
    {
     "name": "stdout",
     "output_type": "stream",
     "text": [
      "['spinach', 'brinjal', 'pumpkin']\n"
     ]
    }
   ],
   "source": [
    "print(vegetables)"
   ]
  },
  {
   "cell_type": "markdown",
   "id": "cbc0308e-25d3-4fd9-bf90-709bf9695624",
   "metadata": {},
   "source": [
    "### Count()"
   ]
  },
  {
   "cell_type": "code",
   "execution_count": 19,
   "id": "044d01e8-ba24-4e55-a81c-62a5b279c211",
   "metadata": {},
   "outputs": [
    {
     "data": {
      "text/plain": [
       "3"
      ]
     },
     "execution_count": 19,
     "metadata": {},
     "output_type": "execute_result"
    }
   ],
   "source": [
    "alphabets = ['a','r','g','d','a','g','g','a']\n",
    "alphabets.count('a')"
   ]
  },
  {
   "cell_type": "code",
   "execution_count": 21,
   "id": "e9f7496b-07cb-4ac1-a444-e3f7e4bfbae9",
   "metadata": {},
   "outputs": [
    {
     "data": {
      "text/plain": [
       "2"
      ]
     },
     "execution_count": 21,
     "metadata": {},
     "output_type": "execute_result"
    }
   ],
   "source": [
    "num=[23,24,25,23,56,24,67,25]\n",
    "num.count(23)"
   ]
  },
  {
   "cell_type": "markdown",
   "id": "e4d8b452-28d5-4caf-bf01-22beebb6fb2f",
   "metadata": {},
   "source": [
    "### Extend()"
   ]
  },
  {
   "cell_type": "code",
   "execution_count": 37,
   "id": "1f430b53-1a63-4275-ba05-928a80aab4df",
   "metadata": {},
   "outputs": [],
   "source": [
    "num1=[1,3,45,6,56,7,8]\n",
    "num23=('num new','num2','num3')\n",
    "num1.extend(num23)"
   ]
  },
  {
   "cell_type": "code",
   "execution_count": 39,
   "id": "04d5d0e1-e7a4-44c7-9a27-d3a48d042b77",
   "metadata": {},
   "outputs": [
    {
     "name": "stdout",
     "output_type": "stream",
     "text": [
      "[1, 3, 45, 6, 56, 7, 8, 'num new', 'num2', 'num3']\n"
     ]
    }
   ],
   "source": [
    "print(num1)"
   ]
  },
  {
   "cell_type": "code",
   "execution_count": null,
   "id": "3e953b3b-2cad-4c24-9b62-5a20f99d24fb",
   "metadata": {},
   "outputs": [],
   "source": [
    "### Append"
   ]
  },
  {
   "cell_type": "code",
   "execution_count": 53,
   "id": "0ad5c4ed-2d61-473c-bab8-4f4e57f0dfb5",
   "metadata": {},
   "outputs": [],
   "source": [
    "cars = ['BMW','Ferrari','Suzuki Swift']\n",
    "cars.append ('Mercedes')\n",
    "num = 1,3,4,5\n",
    "cars.extend(num)"
   ]
  },
  {
   "cell_type": "code",
   "execution_count": 55,
   "id": "7b2610b6-ebed-478c-bebd-0955338f94a3",
   "metadata": {},
   "outputs": [
    {
     "name": "stdout",
     "output_type": "stream",
     "text": [
      "['BMW', 'Ferrari', 'Suzuki Swift', 'Mercedes', 1, 3, 4, 5]\n"
     ]
    }
   ],
   "source": [
    "print(cars)"
   ]
  },
  {
   "cell_type": "markdown",
   "id": "b225856a-bf8d-4ed0-bd8c-c181ee6432de",
   "metadata": {},
   "source": [
    "### Index()"
   ]
  },
  {
   "cell_type": "code",
   "execution_count": 59,
   "id": "2b50e259-1313-4652-832d-20341a859cef",
   "metadata": {},
   "outputs": [
    {
     "data": {
      "text/plain": [
       "2"
      ]
     },
     "execution_count": 59,
     "metadata": {},
     "output_type": "execute_result"
    }
   ],
   "source": [
    "points = [23,45,32,56,23,32,8,90]\n",
    "points.index(32)"
   ]
  },
  {
   "cell_type": "markdown",
   "id": "f95b7913-5260-4be3-97ab-40ce757f5649",
   "metadata": {},
   "source": [
    "### Insert()"
   ]
  },
  {
   "cell_type": "code",
   "execution_count": 67,
   "id": "f4e0309f-0850-405c-b4b9-1259860fa238",
   "metadata": {},
   "outputs": [],
   "source": [
    "stud = ['stud1','stud2','stud3','stud5']\n",
    "stud.insert(2,'stud35')"
   ]
  },
  {
   "cell_type": "code",
   "execution_count": 69,
   "id": "16291065-955b-4e82-b5b6-ed58cd508442",
   "metadata": {},
   "outputs": [
    {
     "name": "stdout",
     "output_type": "stream",
     "text": [
      "['stud1', 'stud2', 'stud35', 'stud3', 'stud5']\n"
     ]
    }
   ],
   "source": [
    "print(stud)"
   ]
  },
  {
   "cell_type": "markdown",
   "id": "cbcaef1c-1809-4fe9-8d37-da74fdb637e3",
   "metadata": {},
   "source": [
    "### Pop()"
   ]
  },
  {
   "cell_type": "code",
   "execution_count": 79,
   "id": "1716367e-0325-4b37-95e1-04c1a9dc25da",
   "metadata": {},
   "outputs": [
    {
     "data": {
      "text/plain": [
       "'disha'"
      ]
     },
     "execution_count": 79,
     "metadata": {},
     "output_type": "execute_result"
    }
   ],
   "source": [
    "clss = ['vigo','ARC' ,'softronix','disha','atlanta']\n",
    "clss.pop(3)\n",
    "clss.pop(2)"
   ]
  },
  {
   "cell_type": "code",
   "execution_count": 83,
   "id": "b931fa67-c75b-44e8-befa-43a082a6bd65",
   "metadata": {},
   "outputs": [
    {
     "name": "stdout",
     "output_type": "stream",
     "text": [
      "['vigo', 'ARC', 'atlanta']\n"
     ]
    }
   ],
   "source": [
    "print(clss)"
   ]
  },
  {
   "cell_type": "markdown",
   "id": "f7b29dee-7c41-4951-8897-e54a95d9b306",
   "metadata": {},
   "source": [
    "### Remove()"
   ]
  },
  {
   "cell_type": "code",
   "execution_count": 86,
   "id": "4b73fce4-a374-4f42-88e4-6cf496f9f989",
   "metadata": {},
   "outputs": [],
   "source": [
    "std=['s1','s2','s1','s3','s4','s5','s3']\n",
    "std.remove('s3')"
   ]
  },
  {
   "cell_type": "code",
   "execution_count": 88,
   "id": "b7bcc363-c22d-4c4d-9730-c552c11d0113",
   "metadata": {},
   "outputs": [
    {
     "name": "stdout",
     "output_type": "stream",
     "text": [
      "['s1', 's2', 's1', 's4', 's5', 's3']\n"
     ]
    }
   ],
   "source": [
    "print(std)"
   ]
  },
  {
   "cell_type": "markdown",
   "id": "7cd33a63-d864-49e4-aaf4-2cd2a345eb59",
   "metadata": {},
   "source": [
    "### Reverse()"
   ]
  },
  {
   "cell_type": "code",
   "execution_count": 91,
   "id": "da9c6254-a0c6-4a1a-8b93-8ff0c019fa2e",
   "metadata": {},
   "outputs": [],
   "source": [
    "clssadv = ['vigo','ARC' ,'softronix','disha','atlanta']\n",
    "clssadv.reverse()"
   ]
  },
  {
   "cell_type": "code",
   "execution_count": 93,
   "id": "2241c0a0-f59b-490c-bd7c-94cc38cc88da",
   "metadata": {},
   "outputs": [
    {
     "name": "stdout",
     "output_type": "stream",
     "text": [
      "['atlanta', 'disha', 'softronix', 'ARC', 'vigo']\n"
     ]
    }
   ],
   "source": [
    "print(clssadv)"
   ]
  },
  {
   "cell_type": "markdown",
   "id": "423240d6-694c-402e-b9bd-4bfa473b83ee",
   "metadata": {},
   "source": [
    "### Sort()"
   ]
  },
  {
   "cell_type": "code",
   "execution_count": 102,
   "id": "1f95a1ac-398f-4bb3-aeaf-ea9140a5524d",
   "metadata": {},
   "outputs": [],
   "source": [
    "carsadv = ['BMW','Ferrari','Suzuki Swift']\n",
    "carsadv.sort()"
   ]
  },
  {
   "cell_type": "code",
   "execution_count": 104,
   "id": "795c80aa-10cd-4c7c-ae8a-9d62363d7492",
   "metadata": {},
   "outputs": [
    {
     "name": "stdout",
     "output_type": "stream",
     "text": [
      "['BMW', 'Ferrari', 'Suzuki Swift']\n"
     ]
    }
   ],
   "source": [
    "print(carsadv)"
   ]
  },
  {
   "cell_type": "code",
   "execution_count": null,
   "id": "4282582f-f11a-40ba-a888-e9de82c5ee10",
   "metadata": {},
   "outputs": [],
   "source": [
    "## sort the list in desc"
   ]
  },
  {
   "cell_type": "code",
   "execution_count": 106,
   "id": "e3b48797-1fb2-47fe-9274-444a37a564dc",
   "metadata": {},
   "outputs": [],
   "source": [
    "fruits = ['apple','pineapple','mango','grapes','banana']\n",
    "fruits.sort(reverse=True)"
   ]
  },
  {
   "cell_type": "code",
   "execution_count": 108,
   "id": "ee52e39a-8eb0-4c7a-9af1-3d36a24ef772",
   "metadata": {},
   "outputs": [
    {
     "name": "stdout",
     "output_type": "stream",
     "text": [
      "['pineapple', 'mango', 'grapes', 'banana', 'apple']\n"
     ]
    }
   ],
   "source": [
    "print(fruits)"
   ]
  },
  {
   "cell_type": "code",
   "execution_count": null,
   "id": "d900f473-157f-43af-991b-79c69e815865",
   "metadata": {},
   "outputs": [],
   "source": [
    "## sort the list acc to length of values"
   ]
  },
  {
   "cell_type": "code",
   "execution_count": 112,
   "id": "e33a7173-1ae3-4f06-85e6-38d35ae6de46",
   "metadata": {},
   "outputs": [],
   "source": [
    "def myFunc(e):\n",
    "  return len(e)\n",
    "fruits = ['apple','pineapple','mango','grapes','banana']\n",
    "fruits.sort(key=myFunc)\n"
   ]
  },
  {
   "cell_type": "code",
   "execution_count": 114,
   "id": "1502beb3-2718-448d-a2c2-358cf7015674",
   "metadata": {},
   "outputs": [
    {
     "name": "stdout",
     "output_type": "stream",
     "text": [
      "['apple', 'mango', 'grapes', 'banana', 'pineapple']\n"
     ]
    }
   ],
   "source": [
    "print(fruits)"
   ]
  }
 ],
 "metadata": {
  "kernelspec": {
   "display_name": "Python 3 (ipykernel)",
   "language": "python",
   "name": "python3"
  },
  "language_info": {
   "codemirror_mode": {
    "name": "ipython",
    "version": 3
   },
   "file_extension": ".py",
   "mimetype": "text/x-python",
   "name": "python",
   "nbconvert_exporter": "python",
   "pygments_lexer": "ipython3",
   "version": "3.11.7"
  }
 },
 "nbformat": 4,
 "nbformat_minor": 5
}

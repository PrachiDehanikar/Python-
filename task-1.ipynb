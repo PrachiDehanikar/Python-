{
 "cells": [
  {
   "cell_type": "code",
   "execution_count": 9,
   "id": "49c22e00-aa44-4d67-bd4e-263717554ec3",
   "metadata": {},
   "outputs": [
    {
     "name": "stdout",
     "output_type": "stream",
     "text": [
      "She runs every morning\n"
     ]
    }
   ],
   "source": [
    "sent1='she runs every morning'\n",
    "a = sent1.capitalize()\n",
    "print (a)"
   ]
  },
  {
   "cell_type": "code",
   "execution_count": 15,
   "id": "cc622e0b-fecd-496e-8e68-dc7712f9a78b",
   "metadata": {},
   "outputs": [
    {
     "name": "stdout",
     "output_type": "stream",
     "text": [
      "the sun shines brightly\n"
     ]
    }
   ],
   "source": [
    "sent2= 'THE SUN SHINES BRIGHTLY'\n",
    "b = sent2.casefold()\n",
    "print(b)"
   ]
  },
  {
   "cell_type": "code",
   "execution_count": 19,
   "id": "ec070512-805c-4550-8286-7f3731ecbf9b",
   "metadata": {},
   "outputs": [
    {
     "name": "stdout",
     "output_type": "stream",
     "text": [
      "             I like to sing             \n"
     ]
    }
   ],
   "source": [
    "sent3='I like to sing'\n",
    "c = sent3.center(40)\n",
    "print(c)"
   ]
  },
  {
   "cell_type": "code",
   "execution_count": 27,
   "id": "355e89c6-cff5-4057-b2b7-3f3e776605b6",
   "metadata": {},
   "outputs": [
    {
     "name": "stdout",
     "output_type": "stream",
     "text": [
      "3\n"
     ]
    }
   ],
   "source": [
    "sent4= 'we went for a walk in the park'\n",
    "d = sent4.count('w')\n",
    "print(d)"
   ]
  },
  {
   "cell_type": "code",
   "execution_count": 29,
   "id": "d0b79cb3-fb5b-4086-bc32-b1163415d017",
   "metadata": {},
   "outputs": [
    {
     "name": "stdout",
     "output_type": "stream",
     "text": [
      "b'He ate an apple'\n"
     ]
    }
   ],
   "source": [
    "sent5= 'He ate an apple'\n",
    "e = sent5.encode()\n",
    "print(e)"
   ]
  },
  {
   "cell_type": "code",
   "execution_count": 33,
   "id": "26f5ee97-a314-4f24-a98e-8d95c71461bc",
   "metadata": {},
   "outputs": [
    {
     "name": "stdout",
     "output_type": "stream",
     "text": [
      "False\n"
     ]
    }
   ],
   "source": [
    "sent6= 'Hi! How was your weekend?'\n",
    "f = sent6.endswith('\"')\n",
    "print(f)"
   ]
  },
  {
   "cell_type": "code",
   "execution_count": 57,
   "id": "9c26345b-b7ae-4472-b6c8-300e71378c86",
   "metadata": {},
   "outputs": [
    {
     "name": "stdout",
     "output_type": "stream",
     "text": [
      "p\\er\\ea\\ec\\eh\\ei\n"
     ]
    }
   ],
   "source": [
    "sent7 = 'p\\er\\ea\\ec\\eh\\ei'\n",
    "g= sent7.expandtabs()\n",
    "print(g)"
   ]
  },
  {
   "cell_type": "code",
   "execution_count": 59,
   "id": "e31864c8-c9ee-4cd9-b2ae-08af6a0d490c",
   "metadata": {},
   "outputs": [
    {
     "name": "stdout",
     "output_type": "stream",
     "text": [
      "6\n"
     ]
    }
   ],
   "source": [
    "sent8 = \"Don't you think the weather is great today?\"\n",
    "h = sent8.find('you')\n",
    "print(h)\n"
   ]
  },
  {
   "cell_type": "code",
   "execution_count": 77,
   "id": "f6a79ea0-1ff3-418f-8531-dc44179a6c30",
   "metadata": {},
   "outputs": [
    {
     "name": "stdout",
     "output_type": "stream",
     "text": [
      "We always eat dinner  together\n"
     ]
    }
   ],
   "source": [
    "sent9 = 'We always eat {fname}  together'\n",
    "i = sent9.format(fname= 'dinner')\n",
    "print(i)\n"
   ]
  },
  {
   "cell_type": "code",
   "execution_count": 79,
   "id": "d11e2588-1f54-4036-8d5d-285019bedca4",
   "metadata": {},
   "outputs": [
    {
     "name": "stdout",
     "output_type": "stream",
     "text": [
      "18\n"
     ]
    }
   ],
   "source": [
    "sent10 = 'They take the bus to work'\n",
    "j = sent10.index('to')\n",
    "print(j)"
   ]
  },
  {
   "cell_type": "code",
   "execution_count": 93,
   "id": "23ca0c86-60e1-4836-aa39-cd5c7f5eac5d",
   "metadata": {},
   "outputs": [
    {
     "name": "stdout",
     "output_type": "stream",
     "text": [
      "True\n"
     ]
    }
   ],
   "source": [
    "sent11 = 'Myclassstartsat800'\n",
    "k = sent11.isalnum()\n",
    "print(k)"
   ]
  },
  {
   "cell_type": "code",
   "execution_count": 95,
   "id": "0fef49fc-5518-443a-9d7e-6ffa83b4d4bc",
   "metadata": {},
   "outputs": [
    {
     "name": "stdout",
     "output_type": "stream",
     "text": [
      "False\n"
     ]
    }
   ],
   "source": [
    "sent11 = 'My class starts at 800'\n",
    "k = sent11.isalnum()\n",
    "print(k)"
   ]
  },
  {
   "cell_type": "code",
   "execution_count": 97,
   "id": "bcd7435e-4496-4fc2-b6a0-bdf4ae1c0c23",
   "metadata": {},
   "outputs": [
    {
     "name": "stdout",
     "output_type": "stream",
     "text": [
      "False\n"
     ]
    }
   ],
   "source": [
    "sent12 = 'To be a good musician, you have to practice a lot 23'\n",
    "l = sent12.isalpha()\n",
    "print(l)"
   ]
  },
  {
   "cell_type": "code",
   "execution_count": 387,
   "id": "cc705025-0ffd-48bb-9dfc-bc5be64a50b7",
   "metadata": {},
   "outputs": [
    {
     "name": "stdout",
     "output_type": "stream",
     "text": [
      "True\n"
     ]
    }
   ],
   "source": [
    "sent12 = 'Tobeagoodmusicianyouhavetopracticealot'\n",
    "l = sent12.isalpha()\n",
    "print(l)"
   ]
  },
  {
   "cell_type": "code",
   "execution_count": 107,
   "id": "233c43ed-7a12-40e8-9516-aba0c26beea6",
   "metadata": {},
   "outputs": [
    {
     "name": "stdout",
     "output_type": "stream",
     "text": [
      "True\n"
     ]
    }
   ],
   "source": [
    "sent13 = 'hey, alexa {} play $silent song '\n",
    "m = sent13.isascii()\n",
    "print(m)"
   ]
  },
  {
   "cell_type": "code",
   "execution_count": 113,
   "id": "8b2418aa-e45b-45de-a1a4-90707c43dad0",
   "metadata": {},
   "outputs": [
    {
     "name": "stdout",
     "output_type": "stream",
     "text": [
      "False\n"
     ]
    }
   ],
   "source": [
    "sent14 = '23.34'\n",
    "n = sent14.isdecimal()\n",
    "print(n)"
   ]
  },
  {
   "cell_type": "code",
   "execution_count": 115,
   "id": "1e2c647e-51e2-4fe9-aa44-9100f3ff7148",
   "metadata": {},
   "outputs": [
    {
     "name": "stdout",
     "output_type": "stream",
     "text": [
      "True\n"
     ]
    }
   ],
   "source": [
    "sent14 = '23'\n",
    "n = sent14.isdecimal()\n",
    "print(n)"
   ]
  },
  {
   "cell_type": "code",
   "execution_count": 123,
   "id": "898ae9bb-b2a1-4604-9b85-427a88ffd439",
   "metadata": {},
   "outputs": [
    {
     "name": "stdout",
     "output_type": "stream",
     "text": [
      "True\n"
     ]
    }
   ],
   "source": [
    "sent15 = '48995'\n",
    "o = sent15.isdigit()\n",
    "print(o)"
   ]
  },
  {
   "cell_type": "code",
   "execution_count": 133,
   "id": "cdc1d484-a49f-4511-8706-873b16ab874e",
   "metadata": {},
   "outputs": [
    {
     "name": "stdout",
     "output_type": "stream",
     "text": [
      "True\n",
      "False\n",
      "True\n",
      "False\n"
     ]
    }
   ],
   "source": [
    "sent16='createfolder'\n",
    "sent17='#my_book'\n",
    "sent18= 'rh12ythm'\n",
    "sent19 = '12rhythm'\n",
    "print(sent16. isidentifier())\n",
    "print(sent17. isidentifier())\n",
    "print(sent18. isidentifier())\n",
    "print(sent19. isidentifier())"
   ]
  },
  {
   "cell_type": "code",
   "execution_count": 139,
   "id": "2a39795a-fb8f-417c-81b1-eed815c70968",
   "metadata": {},
   "outputs": [
    {
     "name": "stdout",
     "output_type": "stream",
     "text": [
      "True\n"
     ]
    }
   ],
   "source": [
    "sent20 = 'his dog barks loudly'\n",
    "p = sent20.islower()\n",
    "print(p)"
   ]
  },
  {
   "cell_type": "code",
   "execution_count": 141,
   "id": "ae1b8f03-11d1-41ca-ac98-6cf2acacfa32",
   "metadata": {},
   "outputs": [
    {
     "name": "stdout",
     "output_type": "stream",
     "text": [
      "False\n"
     ]
    }
   ],
   "source": [
    "sent20 = 'His dogbarks loudly'\n",
    "p = sent20.islower()\n",
    "print(p)"
   ]
  },
  {
   "cell_type": "code",
   "execution_count": 143,
   "id": "2f657eac-de85-4922-928e-7075c22f6af7",
   "metadata": {},
   "outputs": [
    {
     "name": "stdout",
     "output_type": "stream",
     "text": [
      "False\n",
      "True\n",
      "False\n"
     ]
    }
   ],
   "source": [
    "sent21 = '23456.432'\n",
    "sent22 = '34523'\n",
    "sent23 = '-234'\n",
    "print (sent21.isnumeric())\n",
    "print (sent22.isnumeric())\n",
    "print (sent23.isnumeric())"
   ]
  },
  {
   "cell_type": "code",
   "execution_count": 147,
   "id": "450757c0-346d-4dba-8312-7e80ebb93b52",
   "metadata": {},
   "outputs": [
    {
     "name": "stdout",
     "output_type": "stream",
     "text": [
      "True\n",
      "False\n",
      "True\n",
      "False\n"
     ]
    }
   ],
   "source": [
    "sent24 = 'Hey, This is new line'\n",
    "sent25 = 'hello\\n , is it true'\n",
    "sent27 = 'hello\\r , is it true'\n",
    "sent26 = '23ramayana'\n",
    "print(sent24.isprintable())\n",
    "print(sent25.isprintable())\n",
    "print(sent26.isprintable())\n",
    "print(sent27.isprintable())"
   ]
  },
  {
   "cell_type": "code",
   "execution_count": 155,
   "id": "96651dc5-f63c-4068-b8bc-988a92b3f630",
   "metadata": {},
   "outputs": [
    {
     "name": "stdout",
     "output_type": "stream",
     "text": [
      "False\n",
      "True\n",
      "True\n"
     ]
    }
   ],
   "source": [
    "sent28 = 'i have a twin brother'\n",
    "sent29 = '\\n'\n",
    "sent30 = '  '\n",
    "print(sent28.isspace())\n",
    "print(sent29.isspace())\n",
    "print(sent30.isspace())"
   ]
  },
  {
   "cell_type": "code",
   "execution_count": 161,
   "id": "146ad3eb-1cbf-4470-9ee9-3a833f4a0e8e",
   "metadata": {},
   "outputs": [
    {
     "name": "stdout",
     "output_type": "stream",
     "text": [
      "False\n",
      "True\n",
      "True\n",
      "False\n"
     ]
    }
   ],
   "source": [
    "sent31= 'little krishna'\n",
    "sent32= 'Mahadev'\n",
    "sent33= '26 Aimes'\n",
    "sent34='This is #prachi !'\n",
    "print(sent31.istitle())\n",
    "print(sent32.istitle())\n",
    "print(sent33.istitle())\n",
    "print(sent34.istitle())"
   ]
  },
  {
   "cell_type": "code",
   "execution_count": 163,
   "id": "5da07f60-156b-40ca-816c-4ad8ec6db63b",
   "metadata": {},
   "outputs": [
    {
     "name": "stdout",
     "output_type": "stream",
     "text": [
      "True\n",
      "True\n",
      "False\n"
     ]
    }
   ],
   "source": [
    "sent35='HE ATE AN APPLE'\n",
    "sent36='24 HELLO'\n",
    "sent37='hello peter'\n",
    "print(sent35.isupper())\n",
    "print(sent36.isupper())\n",
    "print(sent37.isupper())"
   ]
  },
  {
   "cell_type": "code",
   "execution_count": 165,
   "id": "14166c01-3635-42cb-96f8-a3394317eb6a",
   "metadata": {},
   "outputs": [
    {
     "name": "stdout",
     "output_type": "stream",
     "text": [
      "prachi$pratiksha$dehanikar\n"
     ]
    }
   ],
   "source": [
    "mytuple=(\"prachi\",'pratiksha','dehanikar')\n",
    "sent38='$'.join(mytuple)\n",
    "print(sent38)"
   ]
  },
  {
   "cell_type": "code",
   "execution_count": 199,
   "id": "cc527f88-29f2-4e76-a5c6-99c5721b5d59",
   "metadata": {},
   "outputs": [
    {
     "name": "stdout",
     "output_type": "stream",
     "text": [
      "priya is currently working in infocept\n"
     ]
    }
   ],
   "source": [
    "mydict= ' '\n",
    "mysep= 'priya is currently working' , 'in' ,'infocept' \n",
    "sent39= mydict.join(mysep)\n",
    "print(sent39)"
   ]
  },
  {
   "cell_type": "code",
   "execution_count": 209,
   "id": "82556843-5dc9-4ff4-8d53-babb5988afd2",
   "metadata": {},
   "outputs": [
    {
     "name": "stdout",
     "output_type": "stream",
     "text": [
      "cricketrrrrrrrrrrrrrrrr\n"
     ]
    }
   ],
   "source": [
    "sent40 ='cricket'\n",
    "q = sent40.ljust(23,'r')\n",
    "print(q)"
   ]
  },
  {
   "cell_type": "code",
   "execution_count": 211,
   "id": "5cc89b23-8155-4237-910a-9277909a1d7d",
   "metadata": {},
   "outputs": [
    {
     "name": "stdout",
     "output_type": "stream",
     "text": [
      "you are genius\n"
     ]
    }
   ],
   "source": [
    "sent41 = 'YOU ARE GENIUS'\n",
    "r = sent41.lower()\n",
    "print(r)"
   ]
  },
  {
   "cell_type": "code",
   "execution_count": 215,
   "id": "7374aed9-43d5-4a03-af08-3523ba2fb5ad",
   "metadata": {},
   "outputs": [
    {
     "name": "stdout",
     "output_type": "stream",
     "text": [
      "    you are gorgeous\n"
     ]
    }
   ],
   "source": [
    "sent42 = '#    you are gorgeous'\n",
    "s=sent42.lstrip('#')\n",
    "print(s)"
   ]
  },
  {
   "cell_type": "code",
   "execution_count": 221,
   "id": "7aa344d4-da39-4d48-943d-d9b8edfd28e6",
   "metadata": {},
   "outputs": [
    {
     "name": "stdout",
     "output_type": "stream",
     "text": [
      "you are gorgeous!@#\n"
     ]
    }
   ],
   "source": [
    "sent42 = '!!you are gorgeous!@#'\n",
    "s=sent42.lstrip('!')\n",
    "print(s)"
   ]
  },
  {
   "cell_type": "code",
   "execution_count": 225,
   "id": "54e4a7b5-59f3-4a23-9499-459c1230c604",
   "metadata": {},
   "outputs": [
    {
     "name": "stdout",
     "output_type": "stream",
     "text": [
      "Hske kshhh\n"
     ]
    }
   ],
   "source": [
    "text = 'Hare rammm'\n",
    "str1 = 'amr'\n",
    "str2 = 'shk'\n",
    "mytable= str.maketrans(str1,str2)\n",
    "print(text.translate(mytable))\n"
   ]
  },
  {
   "cell_type": "code",
   "execution_count": 227,
   "id": "11f34461-e178-43f5-8f21-fabc65f013b9",
   "metadata": {},
   "outputs": [
    {
     "name": "stdout",
     "output_type": "stream",
     "text": [
      "ske mks ske kshs\n"
     ]
    }
   ],
   "source": [
    "text1 = 'hare krishna hare rama'\n",
    "str3 = 'amrk'\n",
    "str4 = 'shkm'\n",
    "str5='inhs'\n",
    "mytable= str.maketrans(str3,str4,str5)\n",
    "print(text1.translate(mytable))\n"
   ]
  },
  {
   "cell_type": "code",
   "execution_count": 229,
   "id": "4739a06a-22fb-4186-873a-a7b8f95e74f8",
   "metadata": {},
   "outputs": [
    {
     "name": "stdout",
     "output_type": "stream",
     "text": [
      "('the bus can go', '', '')\n"
     ]
    }
   ],
   "source": [
    "sent43 = 'the bus can go'\n",
    "x = sent43.partition('bike')\n",
    "print(x)"
   ]
  },
  {
   "cell_type": "code",
   "execution_count": 231,
   "id": "a9f61433-04f8-4711-a8fd-1d0f657a1404",
   "metadata": {},
   "outputs": [
    {
     "name": "stdout",
     "output_type": "stream",
     "text": [
      "('the ', 'bus', ' can go')\n"
     ]
    }
   ],
   "source": [
    "sent43 = 'the bus can go'\n",
    "x = sent43.partition('bus')\n",
    "print(x)"
   ]
  },
  {
   "cell_type": "code",
   "execution_count": 233,
   "id": "84925e7c-c1d9-49e8-8d0d-6936907cbccc",
   "metadata": {},
   "outputs": [
    {
     "name": "stdout",
     "output_type": "stream",
     "text": [
      "She didnt watch a show\n"
     ]
    }
   ],
   "source": [
    "sent44 = 'She didnt watch a film'\n",
    "y = sent44.replace('film','show')\n",
    "print(y)"
   ]
  },
  {
   "cell_type": "code",
   "execution_count": 237,
   "id": "c1ba6f40-a012-4be8-a35c-998e5dbe890b",
   "metadata": {},
   "outputs": [
    {
     "name": "stdout",
     "output_type": "stream",
     "text": [
      "8\n"
     ]
    }
   ],
   "source": [
    "sent45 ='We had lots of fun'\n",
    "a1=sent45.rfind('o',5,11)\n",
    "print(a1)"
   ]
  },
  {
   "cell_type": "code",
   "execution_count": 239,
   "id": "03707261-9f89-451e-8b0e-482851f92e76",
   "metadata": {},
   "outputs": [
    {
     "name": "stdout",
     "output_type": "stream",
     "text": [
      "12\n"
     ]
    }
   ],
   "source": [
    "sent45 ='We had lots of fun'\n",
    "a1=sent45.rfind('o')\n",
    "print(a1)"
   ]
  },
  {
   "cell_type": "code",
   "execution_count": 241,
   "id": "2d7b7d68-d723-4e7f-b171-19687b503d0a",
   "metadata": {},
   "outputs": [
    {
     "name": "stdout",
     "output_type": "stream",
     "text": [
      "34\n"
     ]
    }
   ],
   "source": [
    "sent46 = 'I went to the park yesterday that park has closed'\n",
    "a2 = sent46.rindex('park')\n",
    "print(a2)"
   ]
  },
  {
   "cell_type": "code",
   "execution_count": 243,
   "id": "ba4aa59c-5812-4953-baac-ef65fa9c534e",
   "metadata": {},
   "outputs": [
    {
     "name": "stdout",
     "output_type": "stream",
     "text": [
      "43\n"
     ]
    }
   ],
   "source": [
    "sent46 = 'I went to the park yesterday that park has closed'\n",
    "a2 = sent46.rindex('c')\n",
    "print(a2)"
   ]
  },
  {
   "cell_type": "code",
   "execution_count": 253,
   "id": "d48d750e-7a7b-4e6a-80fb-ce4a5fa02645",
   "metadata": {},
   "outputs": [
    {
     "name": "stdout",
     "output_type": "stream",
     "text": [
      "-1\n"
     ]
    }
   ],
   "source": [
    "sent46 = 'I went to the park yesterday that park has closed'\n",
    "print (sent46.rfind('z'))\n"
   ]
  },
  {
   "cell_type": "code",
   "execution_count": 269,
   "id": "01320be5-8add-48ad-821c-fe0218ddf9f4",
   "metadata": {},
   "outputs": [
    {
     "name": "stdout",
     "output_type": "stream",
     "text": [
      "ggggg evening\n"
     ]
    }
   ],
   "source": [
    "sent47 = ' evening'\n",
    "b1 = sent47.rjust(13,'g')\n",
    "print(b1)"
   ]
  },
  {
   "cell_type": "code",
   "execution_count": 271,
   "id": "1405205e-81a7-456c-8b89-8067e1fd40bc",
   "metadata": {},
   "outputs": [
    {
     "name": "stdout",
     "output_type": "stream",
     "text": [
      "('The ', 'sun', ' looks amazing today')\n"
     ]
    }
   ],
   "source": [
    "sent48 = 'The sun looks amazing today'\n",
    "b2 = sent48.rpartition('sun')\n",
    "print(b2)"
   ]
  },
  {
   "cell_type": "code",
   "execution_count": 273,
   "id": "b98adc8e-02f4-4108-b8de-801f6f4778bf",
   "metadata": {},
   "outputs": [
    {
     "name": "stdout",
     "output_type": "stream",
     "text": [
      "('', '', 'The sun looks amazing today')\n"
     ]
    }
   ],
   "source": [
    "sent48 = 'The sun looks amazing today'\n",
    "b2 = sent48.rpartition('son')\n",
    "print(b2)"
   ]
  },
  {
   "cell_type": "code",
   "execution_count": 277,
   "id": "384abe35-f473-448f-9aec-661e7713f698",
   "metadata": {},
   "outputs": [
    {
     "name": "stdout",
     "output_type": "stream",
     "text": [
      "['Nithi ', 'is ', 'keeping', ' well']\n"
     ]
    }
   ],
   "source": [
    "sent49 = 'Nithi ,is ,keeping, well'\n",
    "b3 = sent49.rsplit(',')\n",
    "print(b3)"
   ]
  },
  {
   "cell_type": "code",
   "execution_count": 289,
   "id": "47533311-978f-464b-95c3-5b2771570e69",
   "metadata": {},
   "outputs": [
    {
     "name": "stdout",
     "output_type": "stream",
     "text": [
      "['Nithi ,is ,keeping', ' well']\n"
     ]
    }
   ],
   "source": [
    "sent49 = 'Nithi ,is ,keeping, well'\n",
    "b3 = sent49.rsplit(',',1)\n",
    "print(b3)"
   ]
  },
  {
   "cell_type": "code",
   "execution_count": 299,
   "id": "306fdea3-56cb-4597-b0d6-6ccc0025e80f",
   "metadata": {},
   "outputs": [
    {
     "name": "stdout",
     "output_type": "stream",
     "text": [
      "['Nithi ,is ', 'keeping', ' well']\n"
     ]
    }
   ],
   "source": [
    "sent49 = 'Nithi ,is ,keeping, well'\n",
    "b3 = sent49.rsplit(',',2)\n",
    "print(b3)"
   ]
  },
  {
   "cell_type": "code",
   "execution_count": 315,
   "id": "9b0aa0be-66bb-4fd5-8fcc-3a734653fac7",
   "metadata": {},
   "outputs": [
    {
     "name": "stdout",
     "output_type": "stream",
     "text": [
      "krish  \n"
     ]
    }
   ],
   "source": [
    "sent50 = 'krish  #24&*%...'\n",
    "c1 = sent50.rstrip('.#%&24*')\n",
    "print(c1)"
   ]
  },
  {
   "cell_type": "code",
   "execution_count": 321,
   "id": "032388e2-3e49-47bc-bd02-58b1538ccf57",
   "metadata": {},
   "outputs": [
    {
     "name": "stdout",
     "output_type": "stream",
     "text": [
      "krish  #24&\n"
     ]
    }
   ],
   "source": [
    "sent50 = 'krish  #24&*%...'\n",
    "c1 = sent50.rstrip('#.%24*')\n",
    "print(c1)"
   ]
  },
  {
   "cell_type": "code",
   "execution_count": 323,
   "id": "99c2c609-4bc4-4b96-bebc-2fe25aa29344",
   "metadata": {},
   "outputs": [
    {
     "name": "stdout",
     "output_type": "stream",
     "text": [
      "['After they reach the hotel', ' they will inform us']\n"
     ]
    }
   ],
   "source": [
    "sent51 = 'After they reach the hotel, they will inform us'\n",
    "c2 = sent51.split(',')\n",
    "print(c2)"
   ]
  },
  {
   "cell_type": "code",
   "execution_count": 331,
   "id": "3a3c70b0-1e3c-4b6d-85a6-705ab0241c7a",
   "metadata": {},
   "outputs": [
    {
     "name": "stdout",
     "output_type": "stream",
     "text": [
      "['After they reach ', 'the hotel #they will inform us']\n"
     ]
    }
   ],
   "source": [
    "sent51 = 'After they reach #the hotel #they will inform us'\n",
    "c2 = sent51.split('#',1)\n",
    "print(c2)"
   ]
  },
  {
   "cell_type": "code",
   "execution_count": 333,
   "id": "dd1c045f-f6f0-4ed6-973f-d336ad8055c9",
   "metadata": {},
   "outputs": [
    {
     "name": "stdout",
     "output_type": "stream",
     "text": [
      "['', 'After they reach #the hotel #they will inform us']\n"
     ]
    }
   ],
   "source": [
    "sent51 = '#After they reach #the hotel #they will inform us'\n",
    "c2 = sent51.split('#',1)\n",
    "print(c2)"
   ]
  },
  {
   "cell_type": "code",
   "execution_count": 341,
   "id": "0ed7416d-ce89-4adc-8aa8-b808b9ebdb0e",
   "metadata": {},
   "outputs": [
    {
     "name": "stdout",
     "output_type": "stream",
     "text": [
      "['Jaffar called me ', 'yesterday ', 'I was not able to attend his call.']\n"
     ]
    }
   ],
   "source": [
    "sent52 = 'Jaffar called me \\nyesterday \\nI was not able to attend his call.'\n",
    "d1 = sent52.splitlines()\n",
    "print(d1)"
   ]
  },
  {
   "cell_type": "code",
   "execution_count": 357,
   "id": "b6ba34d8-a247-4f8a-985b-8f54a121f25d",
   "metadata": {},
   "outputs": [
    {
     "name": "stdout",
     "output_type": "stream",
     "text": [
      "['Jaffar called me yesterday ', 'I was not able to attend his call.']\n"
     ]
    }
   ],
   "source": [
    "sent52 = 'Jaffar called me yesterday \\nI was not able to attend his call.'\n",
    "d1 = sent52.splitlines(False)\n",
    "print(d1)"
   ]
  },
  {
   "cell_type": "code",
   "execution_count": 359,
   "id": "b6b2b219-9715-4528-a4fc-324b868cdfb8",
   "metadata": {},
   "outputs": [
    {
     "name": "stdout",
     "output_type": "stream",
     "text": [
      "['Jaffar called me yesterday \\n', 'I was not able to attend his call.']\n"
     ]
    }
   ],
   "source": [
    "sent52 = 'Jaffar called me yesterday \\nI was not able to attend his call.'\n",
    "d1 = sent52.splitlines(True)\n",
    "print(d1)"
   ]
  },
  {
   "cell_type": "code",
   "execution_count": 365,
   "id": "23efbd32-bdeb-4885-bf3b-241eb82667a6",
   "metadata": {},
   "outputs": [
    {
     "name": "stdout",
     "output_type": "stream",
     "text": [
      "True\n"
     ]
    }
   ],
   "source": [
    "sent53 = ' It was raining the whole day'\n",
    "f1 = sent53.startswith(' It')\n",
    "print(f1)"
   ]
  },
  {
   "cell_type": "code",
   "execution_count": 367,
   "id": "ca2f659c-bbed-4034-ac5b-de85cba8276d",
   "metadata": {},
   "outputs": [
    {
     "name": "stdout",
     "output_type": "stream",
     "text": [
      "True\n"
     ]
    }
   ],
   "source": [
    "sent53 = ' It was raining the whole day'\n",
    "f1 = sent53.startswith('rain',8,20)\n",
    "print(f1)"
   ]
  },
  {
   "cell_type": "code",
   "execution_count": 373,
   "id": "99c2f49e-9695-4c2a-ab61-7c10d2b1d5a8",
   "metadata": {},
   "outputs": [
    {
     "name": "stdout",
     "output_type": "stream",
     "text": [
      ",...keing#4\n"
     ]
    }
   ],
   "source": [
    "sent54 = ',...keing#4*%!@....'\n",
    "h1 = sent54.strip('!.#*@%')\n",
    "print(h1)"
   ]
  },
  {
   "cell_type": "code",
   "execution_count": 375,
   "id": "b31f1b78-7f69-4bb3-886b-b82384a3806b",
   "metadata": {},
   "outputs": [
    {
     "name": "stdout",
     "output_type": "stream",
     "text": [
      "mY MOTHER IS going TO the DOCTOR\n"
     ]
    }
   ],
   "source": [
    "sent55 = 'My mother is GOING to THE doctor'\n",
    "j1 = sent55.swapcase()\n",
    "print(j1)"
   ]
  },
  {
   "cell_type": "code",
   "execution_count": 379,
   "id": "3a6090eb-01cd-47dc-b81b-d870d1499fc9",
   "metadata": {},
   "outputs": [
    {
     "name": "stdout",
     "output_type": "stream",
     "text": [
      "Jibin Has Gone To Hyderabad\n"
     ]
    }
   ],
   "source": [
    "sent56 ='jibin has gone to Hyderabad'\n",
    "k1 = sent56.title()\n",
    "print(k1)"
   ]
  },
  {
   "cell_type": "code",
   "execution_count": 381,
   "id": "d1c40dc4-33ac-408d-b449-2c8f4f3f62f0",
   "metadata": {},
   "outputs": [
    {
     "name": "stdout",
     "output_type": "stream",
     "text": [
      "WE WILL BOOK A CAB FOR YOU\n"
     ]
    }
   ],
   "source": [
    "sent57='We will book a cab for you'\n",
    "p1= sent57.upper()\n",
    "print(p1)"
   ]
  },
  {
   "cell_type": "code",
   "execution_count": 383,
   "id": "08fd133d-e0b8-4c86-bc3e-a18841a5dc2e",
   "metadata": {},
   "outputs": [
    {
     "name": "stdout",
     "output_type": "stream",
     "text": [
      "00000hello\n",
      "0000567890\n",
      " Nobody knew where to go\n"
     ]
    }
   ],
   "source": [
    "sent58 = 'hello'\n",
    "sent59 = '567890'\n",
    "sent60 = ' Nobody knew where to go'\n",
    "print(sent58.zfill(10))\n",
    "print(sent59.zfill(10))\n",
    "print(sent60.zfill(10))"
   ]
  }
 ],
 "metadata": {
  "kernelspec": {
   "display_name": "Python 3 (ipykernel)",
   "language": "python",
   "name": "python3"
  },
  "language_info": {
   "codemirror_mode": {
    "name": "ipython",
    "version": 3
   },
   "file_extension": ".py",
   "mimetype": "text/x-python",
   "name": "python",
   "nbconvert_exporter": "python",
   "pygments_lexer": "ipython3",
   "version": "3.11.7"
  }
 },
 "nbformat": 4,
 "nbformat_minor": 5
}

{
 "cells": [
  {
   "cell_type": "markdown",
   "metadata": {},
   "source": [
    "# Functions Multiplication,Substraction, Division \n",
    "* create 3 parameters and call them"
   ]
  },
  {
   "cell_type": "markdown",
   "metadata": {},
   "source": [
    "## multiplication of 3 parameter"
   ]
  },
  {
   "cell_type": "code",
   "execution_count": 9,
   "metadata": {},
   "outputs": [
    {
     "name": "stdout",
     "output_type": "stream",
     "text": [
      "multiplication of 4 , 2 and 3 = 24\n"
     ]
    }
   ],
   "source": [
    "def mul_value(num1,num2,num3):\n",
    "    print (f'multiplication of {num1} , {num2} and {num3} = {num1 * num2 * num3}') \n",
    "   \n",
    "mul_value(4 ,2,3)"
   ]
  },
  {
   "cell_type": "markdown",
   "metadata": {},
   "source": [
    "## substraction of 3 parameter"
   ]
  },
  {
   "cell_type": "code",
   "execution_count": 10,
   "metadata": {},
   "outputs": [
    {
     "name": "stdout",
     "output_type": "stream",
     "text": [
      "substraction of 10 , 2 and 5 is 3\n"
     ]
    }
   ],
   "source": [
    "def sub_value(num1 , num2, num3):\n",
    "    print(f'substraction of {num1} , {num2} and {num3} is {num1-num2-num3}')\n",
    "\n",
    "sub_value(10,2,5)"
   ]
  },
  {
   "cell_type": "markdown",
   "metadata": {},
   "source": [
    "## Division of 3 parameter"
   ]
  },
  {
   "cell_type": "code",
   "execution_count": 12,
   "metadata": {},
   "outputs": [
    {
     "name": "stdout",
     "output_type": "stream",
     "text": [
      "division of 10 , 2 and 5 is 1.0\n"
     ]
    }
   ],
   "source": [
    "def div_value(num1 , num2, num3):\n",
    "    print(f'division of {num1} , {num2} and {num3} is {num1/num2/num3}')\n",
    "\n",
    "div_value(10,2,5)"
   ]
  }
 ],
 "metadata": {
  "kernelspec": {
   "display_name": "Python 3",
   "language": "python",
   "name": "python3"
  },
  "language_info": {
   "codemirror_mode": {
    "name": "ipython",
    "version": 3
   },
   "file_extension": ".py",
   "mimetype": "text/x-python",
   "name": "python",
   "nbconvert_exporter": "python",
   "pygments_lexer": "ipython3",
   "version": "3.12.3"
  }
 },
 "nbformat": 4,
 "nbformat_minor": 2
}
